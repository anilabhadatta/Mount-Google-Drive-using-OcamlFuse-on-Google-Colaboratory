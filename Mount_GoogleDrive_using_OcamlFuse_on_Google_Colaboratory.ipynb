{
  "nbformat": 4,
  "nbformat_minor": 0,
  "metadata": {
    "colab": {
      "name": "Mount GoogleDrive using OcamlFuse on Google Colaboratory.ipynb",
      "provenance": []
    },
    "kernelspec": {
      "name": "python3",
      "display_name": "Python 3"
    },
    "language_info": {
      "name": "python"
    }
  },
  "cells": [
    {
      "cell_type": "code",
      "metadata": {
        "id": "QMBWLhJfziZo",
        "cellView": "form"
      },
      "source": [
        "#@title Install required dependencies\n",
        "# !apt-get install -y -qq software-properties-common python-software-properties module-init-tools\n",
        "import os\n",
        "os.chdir(\"/content\")\n",
        "!add-apt-repository -y ppa:alessandro-strada/ppa 2>&1 > /dev/null\n",
        "!apt-get update -qq 2>&1 > /dev/null\n",
        "!apt-get -y install -qq google-drive-ocamlfuse fuse"
      ],
      "execution_count": null,
      "outputs": []
    },
    {
      "cell_type": "code",
      "metadata": {
        "id": "Y7iocNIF1DnX",
        "cellView": "form"
      },
      "source": [
        "#@title Mount MyDrive using Google Account\n",
        "\n",
        "from google import colab as co\n",
        "import json\n",
        "\n",
        "# Authentication ①\n",
        "co.auth.authenticate_user()\n",
        "\n",
        "# Authentication ②\n",
        "with open('./adc.json', 'r') as f:\n",
        "  json_dict = json.load(f)\n",
        "client_id = json_dict['client_id']\n",
        "client_secret = json_dict['client_secret']\n",
        "!google-drive-ocamlfuse -headless -id={client_id} -secret={client_secret}\n",
        "!mkdir -p MyDrive\n",
        "!google-drive-ocamlfuse drive MyDrive"
      ],
      "execution_count": null,
      "outputs": []
    },
    {
      "cell_type": "code",
      "metadata": {
        "id": "6Yzkf3UvTOG8",
        "cellView": "form"
      },
      "source": [
        "#@title Mount Teamdrive using Google Account\n",
        "# Shared drive (the old team drive)\n",
        "team_drive_name = \"\"  #@param {type:\"string\"}\n",
        "team_drive_root_id = \"\"  #@param {type:\"string\"}\n",
        "team_drive_id = \"\" #@param {type:\"string\"}\n",
        "\n",
        "from google import colab as co\n",
        "import json\n",
        "\n",
        "# Authentication ①\n",
        "co.auth.authenticate_user()\n",
        "\n",
        "# Authentication ②\n",
        "with open('./adc.json', 'r') as f:\n",
        "  json_dict = json.load(f)\n",
        "client_id = json_dict['client_id']\n",
        "client_secret = json_dict['client_secret']\n",
        "!google-drive-ocamlfuse -headless -id={client_id} -secret={client_secret}\n",
        "\n",
        "# Mount a team drive\n",
        "!cp -f ~/.gdfuse/default/config tconfig\n",
        "!sed -i -e \"s/^team_drive_id=$/team_drive_id={team_drive_root_id}/\" tconfig\n",
        "!sed -i -e \"s/^root_folder=$/root_folder={team_drive_id}/\" tconfig\n",
        "!mkdir -p {team_drive_name}\n",
        "!google-drive-ocamlfuse -config ./tconfig -cc {team_drive_name}\n"
      ],
      "execution_count": null,
      "outputs": []
    },
    {
      "cell_type": "code",
      "metadata": {
        "colab": {
          "base_uri": "https://localhost:8080/"
        },
        "id": "4O4aW-tkwhLB",
        "cellView": "form",
        "outputId": "3f529160-fac6-4fbc-ca21-1f4da619cfc6"
      },
      "source": [
        "#@title Mount Teamdrive using Service Account (Bypass 750GB Limit)\n",
        "# Shared drive (the old team drive)\n",
        "from google import colab as co\n",
        "import json\n",
        "team_drive_name = \"\"  #@param {type:\"string\"}\n",
        "team_drive_root_id = \"\"  #@param {type:\"string\"}\n",
        "team_drive_id = \"\" #@param {type:\"string\"}\n",
        "\n",
        "\n",
        "sa_json_path = \"\"  #@param {type:\"string\"}\n",
        "with open(sa_json_path, 'r') as f:\n",
        "  json_dict = json.load(f)\n",
        "client_email = json_dict['client_email']\n",
        "!google-drive-ocamlfuse -serviceaccountpath $sa_json_path -serviceaccountuser $client_email\n",
        "\n",
        "\n",
        "# Mount a team drive\n",
        "!cp -f ~/.gdfuse/default/config tconfig\n",
        "!sed -i -e \"s/^team_drive_id=$/team_drive_id={team_drive_root_id}/\" tconfig\n",
        "!sed -i -e \"s/^root_folder=$/root_folder={team_drive_id}/\" tconfig\n",
        "!mkdir -p {team_drive_name}\n",
        "!google-drive-ocamlfuse -config ./tconfig -cc {team_drive_name}\n"
      ],
      "execution_count": 2,
      "outputs": [
        {
          "output_type": "stream",
          "text": [
            "Clearing cache...done\n"
          ],
          "name": "stdout"
        }
      ]
    },
    {
      "cell_type": "code",
      "metadata": {
        "id": "e7fYWZmI4qwO",
        "cellView": "form"
      },
      "source": [
        "#@title Unmount a MyDrive/Teamdrive\n",
        "mounted_path = \"\" #@param {type:\"string\"}\n",
        "!fusermount -u $mounted_path\n",
        "#!umount -f $mounted_path"
      ],
      "execution_count": 3,
      "outputs": []
    }
  ]
}